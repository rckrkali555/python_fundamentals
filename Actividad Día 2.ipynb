{
 "cells": [
  {
   "cell_type": "code",
   "execution_count": 6,
   "id": "61032df2",
   "metadata": {},
   "outputs": [
    {
     "name": "stdout",
     "output_type": "stream",
     "text": [
      "('Texto', 3, 1.5, False)\n"
     ]
    }
   ],
   "source": [
    "Mi_tupla = (\"Texto\", 3, 1.5, False)\n",
    "print(Mi_tupla)"
   ]
  },
  {
   "cell_type": "code",
   "execution_count": 7,
   "id": "938503aa",
   "metadata": {},
   "outputs": [
    {
     "name": "stdout",
     "output_type": "stream",
     "text": [
      "[1, 2, 3]\n"
     ]
    }
   ],
   "source": [
    "lista = [1,2,3]\n",
    "print(lista)"
   ]
  },
  {
   "cell_type": "code",
   "execution_count": 8,
   "id": "546bb623",
   "metadata": {},
   "outputs": [
    {
     "name": "stdout",
     "output_type": "stream",
     "text": [
      "['Texto', 3, 1.5, False]\n"
     ]
    }
   ],
   "source": [
    "Mi_lista = list(Mi_tupla)\n",
    "print(Mi_lista)"
   ]
  },
  {
   "cell_type": "code",
   "execution_count": 9,
   "id": "59807688",
   "metadata": {},
   "outputs": [
    {
     "name": "stdout",
     "output_type": "stream",
     "text": [
      "Berlin\n"
     ]
    }
   ],
   "source": [
    "Diccionario_capitales = {\"Alemania\":\"Berlin\",\"Italia\":\"Roma\",\"Portugal\":\"Lisboa\"}\n",
    "Capital_alemania = Diccionario_capitales[\"Alemania\"]\n",
    "print(Capital_alemania)"
   ]
  },
  {
   "cell_type": "code",
   "execution_count": 10,
   "id": "e59c238f",
   "metadata": {
    "scrolled": false
   },
   "outputs": [
    {
     "name": "stdout",
     "output_type": "stream",
     "text": [
      "{1: 'Texto', 2: 3, 3: 1.5, 4: False}\n"
     ]
    }
   ],
   "source": [
    "Mi_diccionario = {}\n",
    "for i in range(len(Mi_lista)):\n",
    "    Mi_diccionario[i+1] = Mi_lista[i]\n",
    "print(Mi_diccionario)"
   ]
  },
  {
   "cell_type": "code",
   "execution_count": 11,
   "id": "d4a95f94",
   "metadata": {},
   "outputs": [
    {
     "name": "stdout",
     "output_type": "stream",
     "text": [
      "3\n"
     ]
    }
   ],
   "source": [
    "print(Mi_lista[1])"
   ]
  },
  {
   "cell_type": "code",
   "execution_count": null,
   "id": "a9f41f1e",
   "metadata": {},
   "outputs": [],
   "source": []
  }
 ],
 "metadata": {
  "language_info": {
   "codemirror_mode": {
    "name": "ipython",
    "version": 3
   },
   "file_extension": ".py",
   "mimetype": "text/x-python",
   "name": "python",
   "nbconvert_exporter": "python",
   "pygments_lexer": "ipython3",
   "version": "3.11.5"
  }
 },
 "nbformat": 4,
 "nbformat_minor": 5
}
