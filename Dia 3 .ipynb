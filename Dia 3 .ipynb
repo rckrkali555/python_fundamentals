{
 "cells": [
  {
   "cell_type": "code",
   "execution_count": 2,
   "id": "63001b26",
   "metadata": {},
   "outputs": [
    {
     "name": "stdout",
     "output_type": "stream",
     "text": [
      "Tengo 12.0 años.\n"
     ]
    }
   ],
   "source": [
    "x = 24/2\n",
    "print(f\"Tengo {x} años.\")"
   ]
  },
  {
   "cell_type": "code",
   "execution_count": 4,
   "id": "e5f621d7",
   "metadata": {},
   "outputs": [
    {
     "name": "stdout",
     "output_type": "stream",
     "text": [
      "Mi hermana tiene 63 años.\n"
     ]
    }
   ],
   "source": [
    "mi_edad = 6\n",
    "y = (mi_edad + 15)*3\n",
    "print(f\"Mi hermana tiene {y} años.\")"
   ]
  },
  {
   "cell_type": "code",
   "execution_count": 5,
   "id": "8c7971a8",
   "metadata": {},
   "outputs": [
    {
     "name": "stdout",
     "output_type": "stream",
     "text": [
      "Mi hermana es mayor que yo.\n"
     ]
    }
   ],
   "source": [
    "if x>y:\n",
    "    print(\"Soy mayor que mi hermana.\")\n",
    "elif x<y:\n",
    "    print(\"Mi hermana es mayor que yo.\")\n",
    "else:\n",
    "    print(\"Mi hermana y yo tenemos la misma edad.\")"
   ]
  },
  {
   "cell_type": "code",
   "execution_count": null,
   "id": "afeae67a",
   "metadata": {},
   "outputs": [],
   "source": []
  }
 ],
 "metadata": {
  "kernelspec": {
   "display_name": "Python 3 (ipykernel)",
   "language": "python",
   "name": "python3"
  },
  "language_info": {
   "codemirror_mode": {
    "name": "ipython",
    "version": 3
   },
   "file_extension": ".py",
   "mimetype": "text/x-python",
   "name": "python",
   "nbconvert_exporter": "python",
   "pygments_lexer": "ipython3",
   "version": "3.11.5"
  }
 },
 "nbformat": 4,
 "nbformat_minor": 5
}
